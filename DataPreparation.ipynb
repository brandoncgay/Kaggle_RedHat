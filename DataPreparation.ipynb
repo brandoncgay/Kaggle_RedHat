{
 "cells": [
  {
   "cell_type": "code",
   "execution_count": 2,
   "metadata": {
    "collapsed": false
   },
   "outputs": [],
   "source": [
    "import numpy as np\n",
    "import pandas as pd\n",
    "from sklearn.preprocessing import LabelEncoder\n",
    "import pickle\n",
    "import gzip"
   ]
  },
  {
   "cell_type": "code",
   "execution_count": 3,
   "metadata": {
    "collapsed": true
   },
   "outputs": [],
   "source": [
    "pd.read_csv?"
   ]
  },
  {
   "cell_type": "code",
   "execution_count": 12,
   "metadata": {
    "collapsed": false,
    "scrolled": false
   },
   "outputs": [],
   "source": [
    "people = pd.read_csv(\"data/people.csv\", parse_dates=['date'])\n",
    "train = pd.read_csv(\"data/act_train.csv\", parse_dates=['date'])\n",
    "test = pd.read_csv(\"data/act_test.csv\", parse_dates=['date'])"
   ]
  },
  {
   "cell_type": "code",
   "execution_count": 13,
   "metadata": {
    "collapsed": false
   },
   "outputs": [],
   "source": [
    "people['year'] = people['date'].dt.year\n",
    "people['month'] = people['date'].dt.month\n",
    "people['day'] = people['date'].dt.day\n",
    "people.drop('date', axis=1, inplace=True)\n",
    "\n",
    "train['set'] = 'train'\n",
    "test['set'] = 'test'\n",
    "act_data = pd.concat([train, test], axis=0)\n",
    "act_data['year'] = act_data['date'].dt.year\n",
    "act_data['month'] = act_data['date'].dt.month\n",
    "act_data['day'] = act_data['date'].dt.day\n",
    "act_data.drop('date', axis=1, inplace=True)\n",
    "del train, test"
   ]
  },
  {
   "cell_type": "code",
   "execution_count": 14,
   "metadata": {
    "collapsed": true
   },
   "outputs": [],
   "source": [
    "people_cat_vars = ['char_1', 'group_1', 'char_2', 'char_3', 'char_4',\n",
    "                   'char_5', 'char_6', 'char_7', 'char_8', 'char_9', \n",
    "                   'char_10', 'char_11', 'char_12', 'char_13', 'char_14', \n",
    "                   'char_15', 'char_16', 'char_17', 'char_18', 'char_19', \n",
    "                   'char_20', 'char_21', 'char_22', 'char_23', 'char_24', \n",
    "                   'char_25', 'char_26', 'char_27', 'char_28', 'char_29',\n",
    "                   'char_30', 'char_31', 'char_32', 'char_33', 'char_34', \n",
    "                   'char_35', 'char_36', 'char_37']\n",
    "\n",
    "act_cat_vars = ['activity_category', 'char_1', 'char_10', \n",
    "                'char_2', 'char_3', 'char_4', 'char_5', 'char_6', 'char_7', \n",
    "                'char_8', 'char_9']"
   ]
  },
  {
   "cell_type": "code",
   "execution_count": 15,
   "metadata": {
    "collapsed": false
   },
   "outputs": [],
   "source": [
    "le = LabelEncoder()\n",
    "for var in people_cat_vars:\n",
    "    people[var] = le.fit_transform(people[var].values)\n",
    "for var in act_cat_vars:\n",
    "    act_data[var].fillna('na', inplace=True)\n",
    "    act_data[var] = le.fit_transform(act_data[var].values)"
   ]
  },
  {
   "cell_type": "code",
   "execution_count": 16,
   "metadata": {
    "collapsed": false
   },
   "outputs": [],
   "source": [
    "data = pd.merge(act_data, people, how='left', on='people_id')\n",
    "del people"
   ]
  },
  {
   "cell_type": "code",
   "execution_count": 17,
   "metadata": {
    "collapsed": false
   },
   "outputs": [],
   "source": [
    "train = data.loc[data['set'] == 'train'].drop('set', axis=1)\n",
    "train['outcome'] = train['outcome'].astype(np.int8)\n",
    "test = data.loc[data['set'] == 'test'].drop(['set', 'outcome'], axis=1)"
   ]
  },
  {
   "cell_type": "code",
   "execution_count": 18,
   "metadata": {
    "collapsed": false
   },
   "outputs": [],
   "source": [
    "features = list(train.columns)\n",
    "for var in ['activity_id', 'outcome', 'people_id']:\n",
    "    features.remove(var)\n",
    "    \n",
    "target = 'outcome'"
   ]
  },
  {
   "cell_type": "code",
   "execution_count": 19,
   "metadata": {
    "collapsed": false
   },
   "outputs": [],
   "source": [
    "pickle_file = 'processedData.pgz'\n",
    "\n",
    "with gzip.open(pickle_file, 'wb') as f:\n",
    "    save = {\n",
    "        'train': train,\n",
    "        'test': test,\n",
    "        'features': features,\n",
    "        'target': target\n",
    "    }\n",
    "    pickle.dump(save, f, pickle.HIGHEST_PROTOCOL)\n",
    "del train, test"
   ]
  },
  {
   "cell_type": "code",
   "execution_count": null,
   "metadata": {
    "collapsed": true
   },
   "outputs": [],
   "source": []
  }
 ],
 "metadata": {
  "anaconda-cloud": {},
  "kernelspec": {
   "display_name": "Python [conda root]",
   "language": "python",
   "name": "conda-root-py"
  },
  "language_info": {
   "codemirror_mode": {
    "name": "ipython",
    "version": 3
   },
   "file_extension": ".py",
   "mimetype": "text/x-python",
   "name": "python",
   "nbconvert_exporter": "python",
   "pygments_lexer": "ipython3",
   "version": "3.5.2"
  }
 },
 "nbformat": 4,
 "nbformat_minor": 0
}
