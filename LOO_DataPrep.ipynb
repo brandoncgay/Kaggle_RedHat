{
 "cells": [
  {
   "cell_type": "code",
   "execution_count": 107,
   "metadata": {
    "collapsed": true
   },
   "outputs": [],
   "source": [
    "import numpy as np\n",
    "import pandas as pd\n",
    "from sklearn.linear_model import LogisticRegression\n",
    "from sklearn.metrics import roc_auc_score\n",
    "from sklearn.cross_validation import train_test_split"
   ]
  },
  {
   "cell_type": "code",
   "execution_count": 108,
   "metadata": {
    "collapsed": true
   },
   "outputs": [],
   "source": [
    "people = pd.read_csv(\"data/people.csv\", parse_dates=['date'])\n",
    "train = pd.read_csv(\"data/act_train.csv\", parse_dates=['date'])\n",
    "test = pd.read_csv(\"data/act_test.csv\", parse_dates=['date'])"
   ]
  },
  {
   "cell_type": "code",
   "execution_count": 109,
   "metadata": {
    "collapsed": true
   },
   "outputs": [],
   "source": [
    "people['year'] = people['date'].dt.year\n",
    "people['month'] = people['date'].dt.month\n",
    "people['day'] = people['date'].dt.day\n",
    "people.drop('date', axis=1, inplace=True)\n",
    "\n",
    "train['year'] = train['date'].dt.year\n",
    "train['month'] = train['date'].dt.month\n",
    "train['day'] = train['date'].dt.day\n",
    "train.drop('date', axis=1, inplace=True)\n",
    "\n",
    "test['year'] = test['date'].dt.year\n",
    "test['month'] = test['date'].dt.month\n",
    "test['day'] = test['date'].dt.day\n",
    "test.drop('date', axis=1, inplace=True)\n",
    "\n",
    "train = pd.merge(train, people, how='left', on='people_id', left_index=True)\n",
    "test = pd.merge(test, people, how='left', on='people_id', left_index=True)\n",
    "del people"
   ]
  },
  {
   "cell_type": "code",
   "execution_count": 110,
   "metadata": {
    "collapsed": false
   },
   "outputs": [],
   "source": [
    "target = 'outcome'\n",
    "features = list(train.columns)\n",
    "for var in ['activity_id', 'outcome', 'people_id']:\n",
    "    features.remove(var)"
   ]
  },
  {
   "cell_type": "code",
   "execution_count": 125,
   "metadata": {
    "collapsed": false
   },
   "outputs": [],
   "source": [
    "#Leave One Out encoding of categorical variables\n",
    "def LOOEncode(train, col_name, test=None, training=True):\n",
    "    avg_target_by_col_group = train[[col_name, target]].groupby(col_name).mean().reset_index()\n",
    "    avg_target_by_col_group.columns = [col_name, 'avg_target']\n",
    "    outcomes = train[target].values\n",
    "    if training:\n",
    "        x = pd.merge(train[[col_name, target]], avg_target_by_col_group, \n",
    "                     how='left', \n",
    "                     on=col_name,\n",
    "                     left_index=True)['avg_target']\n",
    "        x = ((x*x.shape[0])-outcomes)/(x.shape[0]-1)\n",
    "    else:\n",
    "        x = pd.merge(pd.DataFrame(test[col_name]), avg_target_by_col_group, \n",
    "                     how='left',\n",
    "                     on=col_name,\n",
    "                     left_index=True)['avg_target']    \n",
    "    return x.fillna(x.mean())"
   ]
  },
  {
   "cell_type": "code",
   "execution_count": 138,
   "metadata": {
    "collapsed": false
   },
   "outputs": [],
   "source": [
    "train1, valid1 = train_test_split(train, test_size=0.3)\n",
    "\n",
    "loo_train = pd.DataFrame({'outcome': train1['outcome']})\n",
    "loo_valid = pd.DataFrame({'outcome': valid1['outcome']})\n",
    "loo_test = pd.DataFrame()\n",
    "for col in ['group_1', 'char_2_y', 'char_38']:\n",
    "    if(col not in ['people_id', 'outcome']):\n",
    "        loo_train[col] = LOOEncode(train1, col).values\n",
    "        loo_valid[col] = LOOEncode(train1, col, test=valid1, training=False).values\n",
    "        loo_test[col] = LOOEncode(train1, col, test=test, training=False).values"
   ]
  },
  {
   "cell_type": "code",
   "execution_count": 140,
   "metadata": {
    "collapsed": false
   },
   "outputs": [
    {
     "name": "stdout",
     "output_type": "stream",
     "text": [
      "0.997260954261 0.996661079501\n"
     ]
    }
   ],
   "source": [
    "lr = LogisticRegression(C=100000.0)\n",
    "lr.fit(loo_train[['group_1', 'char_2_y', 'char_38']], loo_train[target])\n",
    "\n",
    "pred_train = lr.predict_proba(loo_train[['group_1', 'char_2_y', 'char_38']])[:,1]\n",
    "pred_valid = lr.predict_proba(loo_valid[['group_1', 'char_2_y', 'char_38']])[:,1]\n",
    "\n",
    "auc_train = roc_auc_score(loo_train[target], pred_train)\n",
    "auc_valid = roc_auc_score(loo_valid[target], pred_valid)\n",
    "\n",
    "print(auc_train, auc_valid)\n"
   ]
  },
  {
   "cell_type": "code",
   "execution_count": 141,
   "metadata": {
    "collapsed": false
   },
   "outputs": [],
   "source": [
    "result = lr.predict_proba(loo_test[['group_1', 'char_2_y', 'char_38']])[:,1]\n",
    "\n",
    "submission = pd.DataFrame({'activity_id': test['activity_id'].values,\n",
    "                           'outcome': result})\n",
    "\n",
    "submission.to_csv('result.csv', index=False)"
   ]
  },
  {
   "cell_type": "code",
   "execution_count": null,
   "metadata": {
    "collapsed": false
   },
   "outputs": [],
   "source": []
  },
  {
   "cell_type": "code",
   "execution_count": null,
   "metadata": {
    "collapsed": true
   },
   "outputs": [],
   "source": []
  }
 ],
 "metadata": {
  "kernelspec": {
   "display_name": "Python [conda root]",
   "language": "python",
   "name": "conda-root-py"
  },
  "language_info": {
   "codemirror_mode": {
    "name": "ipython",
    "version": 3
   },
   "file_extension": ".py",
   "mimetype": "text/x-python",
   "name": "python",
   "nbconvert_exporter": "python",
   "pygments_lexer": "ipython3",
   "version": "3.5.2"
  }
 },
 "nbformat": 4,
 "nbformat_minor": 0
}
